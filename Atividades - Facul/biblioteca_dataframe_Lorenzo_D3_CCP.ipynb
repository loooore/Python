{
  "cells": [
    {
      "cell_type": "markdown",
      "metadata": {
        "id": "lNWTSSz5phE5"
      },
      "source": [
        "# Criando o data frame\n"
      ]
    },
    {
      "cell_type": "code",
      "execution_count": 1,
      "metadata": {
        "id": "Z79Rfq_VHKaO"
      },
      "outputs": [],
      "source": [
        "# Importando a Biblioteca Pandas, chamando-a de \"pd\", para a criação de dataframes\n",
        "import pandas as pd"
      ]
    },
    {
      "cell_type": "code",
      "execution_count": 2,
      "metadata": {
        "id": "85WS4xZmfnGA"
      },
      "outputs": [],
      "source": [
        "# Criando o dicionário \"biblioteca\" para criar o dataframe\n",
        "biblioteca = {\n",
        "    'Título': ['1984', 'O Senhor dos Anéis', 'O Apanhador no Campo de Centeio', 'Cem Anos de Solidão', 'Dom Quixote', 'Orgulho e Preconceito'],\n",
        "    'Autor': ['George Orwell', 'J.R.R. Tolkien', 'J.D. Salinger', 'Gabriel García Márquez', 'Miguel de Cervantes', 'Jane Austen'],\n",
        "    'Ano de Publicação': [1949, 1954, 1951, 1967, 1605, 1813],\n",
        "    'Gênero': ['Distopia', 'Fantasia', 'Ficção', 'Realismo Mágico', 'Ficção', 'Romance'],\n",
        "    'Número de Páginas': [328, 1216, 277, 417, 1072, 279],\n",
        "}"
      ]
    },
    {
      "cell_type": "code",
      "execution_count": 3,
      "metadata": {
        "colab": {
          "base_uri": "https://localhost:8080/"
        },
        "id": "NreT_lW8gavz",
        "outputId": "9388eec5-dee4-4712-811c-a92d92db134c"
      },
      "outputs": [],
      "source": [
        "# Criando o dataframe a partir do dicionário biblioteca\n",
        "biblioteca_DF = pd.DataFrame(biblioteca)"
      ]
    },
    {
      "cell_type": "markdown",
      "metadata": {
        "id": "x8-giniMpo3K"
      },
      "source": [
        "# 1 - Apresente em tela (output) toda a base de dados"
      ]
    },
    {
      "cell_type": "code",
      "execution_count": 4,
      "metadata": {
        "colab": {
          "base_uri": "https://localhost:8080/"
        },
        "id": "Vh6Rjeq3g8P5",
        "outputId": "0e493436-2b91-42b1-8555-54b8661e55d6"
      },
      "outputs": [
        {
          "name": "stdout",
          "output_type": "stream",
          "text": [
            "Visualização do DataFrame inteiro:\n",
            "\n",
            "                            Título                   Autor  Ano de Publicação  \\\n",
            "0                             1984           George Orwell               1949   \n",
            "1               O Senhor dos Anéis          J.R.R. Tolkien               1954   \n",
            "2  O Apanhador no Campo de Centeio           J.D. Salinger               1951   \n",
            "3              Cem Anos de Solidão  Gabriel García Márquez               1967   \n",
            "4                      Dom Quixote     Miguel de Cervantes               1605   \n",
            "5            Orgulho e Preconceito             Jane Austen               1813   \n",
            "\n",
            "            Gênero  Número de Páginas  \n",
            "0         Distopia                328  \n",
            "1         Fantasia               1216  \n",
            "2           Ficção                277  \n",
            "3  Realismo Mágico                417  \n",
            "4           Ficção               1072  \n",
            "5          Romance                279  \n"
          ]
        }
      ],
      "source": [
        "print(\"Visualização do DataFrame inteiro:\")\n",
        "print()\n",
        "\n",
        "# Utilizando a função print, para imprimir o dataframe por inteiro\n",
        "print(biblioteca_DF)"
      ]
    },
    {
      "cell_type": "markdown",
      "metadata": {
        "id": "EQo3UgKBpuoR"
      },
      "source": [
        "# 2 - Apresente o tamanho do seu dataframe (quantas colunas x linhas)"
      ]
    },
    {
      "cell_type": "code",
      "execution_count": 5,
      "metadata": {
        "colab": {
          "base_uri": "https://localhost:8080/"
        },
        "id": "12tgbUF0hIt9",
        "outputId": "874943ad-e1f0-405f-9a16-b82d8746745f"
      },
      "outputs": [
        {
          "name": "stdout",
          "output_type": "stream",
          "text": [
            "O tamanho do DataFrame é: 6 linhas e 5 colunas\n"
          ]
        }
      ],
      "source": [
        "# Utilizando o método shape para mostrar a quantidade de linhas e colunas que existem no DataFrame\n",
        "linhas, colunas = biblioteca_DF.shape\n",
        "print(f\"O tamanho do DataFrame é: {linhas} linhas e {colunas} colunas\")"
      ]
    },
    {
      "cell_type": "markdown",
      "metadata": {
        "id": "SNwAzNqCpzBb"
      },
      "source": [
        "# 3 - Acesse a linha (x) e apresente em tela todas as características do item"
      ]
    },
    {
      "cell_type": "code",
      "execution_count": 6,
      "metadata": {
        "colab": {
          "base_uri": "https://localhost:8080/"
        },
        "id": "0RFhUQVijq3Z",
        "outputId": "d95bca32-7a3a-4273-e980-f09e7c0af24c"
      },
      "outputs": [
        {
          "name": "stdout",
          "output_type": "stream",
          "text": [
            "Na 1ª linha, tem:\n",
            "Livro: 1984, autor: George Orwell, ano que foi publicado: 1949, gênero: Distopia e N° de páginas: 328\n",
            "\n"
          ]
        },
        {
          "name": "stderr",
          "output_type": "stream",
          "text": [
            "C:\\Users\\l50038499\\AppData\\Local\\Temp\\ipykernel_16484\\4005555173.py:33: FutureWarning: Series.__getitem__ treating keys as positions is deprecated. In a future version, integer keys will always be treated as labels (consistent with DataFrame behavior). To access a value by position, use `ser.iloc[pos]`\n",
            "  print(f'Livro: {biblioteca_DF.iloc[loc_row][0]}, autor: {biblioteca_DF.iloc[loc_row][1]}, ano que foi publicado: {biblioteca_DF.iloc[loc_row][2]}, gênero: {biblioteca_DF.iloc[loc_row][3]} e N° de páginas: {biblioteca_DF.iloc[loc_row][4]}')\n"
          ]
        }
      ],
      "source": [
        "\"\"\"\n",
        "Linha 6 a 17\n",
        "  Loop while\n",
        "    Utilizando o loop while para criar um loop infinito que só será interrompido quando a condição desejada for satisfeita.\n",
        "\n",
        "Linha 9 a 17\n",
        "  Bloco try-except\n",
        "    O bloco \"try\" tenta executar o input dentro dele. O input é utilizado para solicitar ao usuário a inserção de um valor.\n",
        "    A função int() tenta converter o valor para um número inteiro. Se não for possível (por exemplo, se for uma string ou um número decimal),\n",
        "    um \"ValueError\" será lançado. Para que o programa não feche, o bloco \"except\" captura a exceção, retornando uma mensagem de erro personalizada\n",
        "    e reiniciando o loop, pedindo o input novamente ao usuário.\n",
        "\n",
        "  Bloco else\n",
        "    Se nenhum \"ValueError\" for lançado, o código dentro do bloco else será executado, verificando se o número que o usuário inseriu\n",
        "    é menor que 1 ou maior que o tamanho do DataFrame. Se o número estiver fora desse intervalo, uma mensagem de erro será exibida e o loop será reiniciado.\n",
        "    Se o número estiver dentro do intervalo, o loop será encerrado utilizando \"break\" e o valor será salvo na variável loc_row.\n",
        "\"\"\"\n",
        "\n",
        "while True:\n",
        "  try:\n",
        "    loc_row = int(input(f'Insira qual linha deseja pesquisar (1 a {len(biblioteca_DF)}): '))\n",
        "  except ValueError:\n",
        "    print(f'[ERROR] - Insira um número inteiro entre 1 a {len(biblioteca_DF)}!')\n",
        "  else:\n",
        "    if loc_row < 1 or loc_row > len(biblioteca_DF):\n",
        "      print(f'[ERROR] - Insira um número inteiro entre 1 a {len(biblioteca_DF)}!')\n",
        "    else:\n",
        "      break\n",
        "\n",
        "print(f'Na {loc_row}ª linha, tem:')\n",
        "loc_row -= 1 # Diminuindo o valor da variável em 1, porque em programação os índices começam do 0\n",
        "# Utilizando o método iloc e o índice desejado para cada atributo\n",
        "print(f'Livro: {biblioteca_DF.iloc[loc_row][0]}, autor: {biblioteca_DF.iloc[loc_row][1]}, ano que foi publicado: {biblioteca_DF.iloc[loc_row][2]}, gênero: {biblioteca_DF.iloc[loc_row][3]} e N° de páginas: {biblioteca_DF.iloc[loc_row][4]}')\n",
        "print()"
      ]
    },
    {
      "cell_type": "code",
      "execution_count": 7,
      "metadata": {
        "colab": {
          "base_uri": "https://localhost:8080/"
        },
        "id": "V4-tLlaZXo5m",
        "outputId": "2f692511-29fd-48d2-fbf0-97aa5a2606d5"
      },
      "outputs": [
        {
          "name": "stdout",
          "output_type": "stream",
          "text": [
            "Título               O Senhor dos Anéis\n",
            "Autor                    J.R.R. Tolkien\n",
            "Ano de Publicação                  1954\n",
            "Gênero                         Fantasia\n",
            "Número de Páginas                  1216\n",
            "Name: 1, dtype: object\n"
          ]
        }
      ],
      "source": [
        "# ----------------------------------------------------------------------------- SIMPLES ----------------------------------------------------------------------------------------------------\n",
        "\n",
        "print(biblioteca_DF.loc[1])"
      ]
    },
    {
      "cell_type": "markdown",
      "metadata": {
        "id": "mR6gvai_p3Z9"
      },
      "source": [
        "# 4 - Verifique se o dataframe está vazio"
      ]
    },
    {
      "cell_type": "code",
      "execution_count": 8,
      "metadata": {
        "colab": {
          "base_uri": "https://localhost:8080/"
        },
        "id": "wuo8RqNxA9m9",
        "outputId": "f5c83114-8281-46ed-8849-8a72ed3a218b"
      },
      "outputs": [
        {
          "name": "stdout",
          "output_type": "stream",
          "text": [
            "O DataFrame não está vazio\n"
          ]
        }
      ],
      "source": [
        "\"\"\"\n",
        "  Neste código foi utilizada a estrutura condicional \"if-else\" para verificar uma variável booleana (verdadeira ou falsa).\n",
        "  Foi utilizado o método \"empty\" do pandas, que retorna \"True\" se o DataFrame estiver vazio, ou \"False\" se não estiver vazio.\n",
        "\n",
        "  No caso deste código, está sendo verificado se o método \"empty\" retorna \"False\". Se retornar \"False\", será impressa uma mensagem indicando que o DataFrame não está vazio.\n",
        "  Se retornar \"True\", será executado o bloco \"else\", que imprimirá uma mensagem indicando que o DataFrame está vazio.\n",
        "\"\"\"\n",
        "if biblioteca_DF.empty == False:\n",
        "   print('O DataFrame não está vazio')\n",
        "else:\n",
        "  print('O DataFrame está vazio!')"
      ]
    },
    {
      "cell_type": "markdown",
      "metadata": {
        "id": "8ysP_6GFp5y7"
      },
      "source": [
        "# 5 - Apresente em tela os 5 primeiros registros da base de dados"
      ]
    },
    {
      "cell_type": "code",
      "execution_count": 9,
      "metadata": {
        "colab": {
          "base_uri": "https://localhost:8080/",
          "height": 224
        },
        "id": "OSi_-S9hJOz0",
        "outputId": "049a1307-fb63-49d2-ba73-42cde0a97952"
      },
      "outputs": [
        {
          "name": "stdout",
          "output_type": "stream",
          "text": [
            "Os 5 primeiros registros são:\n"
          ]
        },
        {
          "data": {
            "text/html": [
              "<div>\n",
              "<style scoped>\n",
              "    .dataframe tbody tr th:only-of-type {\n",
              "        vertical-align: middle;\n",
              "    }\n",
              "\n",
              "    .dataframe tbody tr th {\n",
              "        vertical-align: top;\n",
              "    }\n",
              "\n",
              "    .dataframe thead th {\n",
              "        text-align: right;\n",
              "    }\n",
              "</style>\n",
              "<table border=\"1\" class=\"dataframe\">\n",
              "  <thead>\n",
              "    <tr style=\"text-align: right;\">\n",
              "      <th></th>\n",
              "      <th>Título</th>\n",
              "      <th>Autor</th>\n",
              "      <th>Ano de Publicação</th>\n",
              "      <th>Gênero</th>\n",
              "      <th>Número de Páginas</th>\n",
              "    </tr>\n",
              "  </thead>\n",
              "  <tbody>\n",
              "    <tr>\n",
              "      <th>0</th>\n",
              "      <td>1984</td>\n",
              "      <td>George Orwell</td>\n",
              "      <td>1949</td>\n",
              "      <td>Distopia</td>\n",
              "      <td>328</td>\n",
              "    </tr>\n",
              "    <tr>\n",
              "      <th>1</th>\n",
              "      <td>O Senhor dos Anéis</td>\n",
              "      <td>J.R.R. Tolkien</td>\n",
              "      <td>1954</td>\n",
              "      <td>Fantasia</td>\n",
              "      <td>1216</td>\n",
              "    </tr>\n",
              "    <tr>\n",
              "      <th>2</th>\n",
              "      <td>O Apanhador no Campo de Centeio</td>\n",
              "      <td>J.D. Salinger</td>\n",
              "      <td>1951</td>\n",
              "      <td>Ficção</td>\n",
              "      <td>277</td>\n",
              "    </tr>\n",
              "    <tr>\n",
              "      <th>3</th>\n",
              "      <td>Cem Anos de Solidão</td>\n",
              "      <td>Gabriel García Márquez</td>\n",
              "      <td>1967</td>\n",
              "      <td>Realismo Mágico</td>\n",
              "      <td>417</td>\n",
              "    </tr>\n",
              "    <tr>\n",
              "      <th>4</th>\n",
              "      <td>Dom Quixote</td>\n",
              "      <td>Miguel de Cervantes</td>\n",
              "      <td>1605</td>\n",
              "      <td>Ficção</td>\n",
              "      <td>1072</td>\n",
              "    </tr>\n",
              "  </tbody>\n",
              "</table>\n",
              "</div>"
            ],
            "text/plain": [
              "                            Título                   Autor  Ano de Publicação  \\\n",
              "0                             1984           George Orwell               1949   \n",
              "1               O Senhor dos Anéis          J.R.R. Tolkien               1954   \n",
              "2  O Apanhador no Campo de Centeio           J.D. Salinger               1951   \n",
              "3              Cem Anos de Solidão  Gabriel García Márquez               1967   \n",
              "4                      Dom Quixote     Miguel de Cervantes               1605   \n",
              "\n",
              "            Gênero  Número de Páginas  \n",
              "0         Distopia                328  \n",
              "1         Fantasia               1216  \n",
              "2           Ficção                277  \n",
              "3  Realismo Mágico                417  \n",
              "4           Ficção               1072  "
            ]
          },
          "execution_count": 9,
          "metadata": {},
          "output_type": "execute_result"
        }
      ],
      "source": [
        "# Utilizando a função head() do pandas, imprimindo as 5 primeias linhas e o dataframe de uma forma mais formatada\n",
        "print('Os 5 primeiros registros são:')\n",
        "biblioteca_DF.head()"
      ]
    },
    {
      "cell_type": "markdown",
      "metadata": {
        "id": "IR2cwgT_qliU"
      },
      "source": [
        "# 6 - Exclua um item (linha) de sua base de dados"
      ]
    },
    {
      "cell_type": "code",
      "execution_count": 10,
      "metadata": {
        "id": "FNFpcC7eolOb"
      },
      "outputs": [],
      "source": [
        "# Criando o dataframe \"new_library_exclude\" utilizando a função copy() do pandas, para que as alterações feitas não mudem o dataframe original\n",
        "new_library_exclude = biblioteca_DF.copy()"
      ]
    },
    {
      "cell_type": "code",
      "execution_count": 11,
      "metadata": {
        "colab": {
          "base_uri": "https://localhost:8080/"
        },
        "id": "zRY6HSaSJvgT",
        "outputId": "47b5b92b-923d-41cd-eafd-10c92d61844e"
      },
      "outputs": [
        {
          "name": "stdout",
          "output_type": "stream",
          "text": [
            "Linha excluída com sucesso. Novo DataFrame:\n",
            "                            Título                   Autor  Ano de Publicação  \\\n",
            "1               O Senhor dos Anéis          J.R.R. Tolkien               1954   \n",
            "2  O Apanhador no Campo de Centeio           J.D. Salinger               1951   \n",
            "3              Cem Anos de Solidão  Gabriel García Márquez               1967   \n",
            "4                      Dom Quixote     Miguel de Cervantes               1605   \n",
            "5            Orgulho e Preconceito             Jane Austen               1813   \n",
            "\n",
            "            Gênero  Número de Páginas  \n",
            "1         Fantasia               1216  \n",
            "2           Ficção                277  \n",
            "3  Realismo Mágico                417  \n",
            "4           Ficção               1072  \n",
            "5          Romance                279  \n"
          ]
        }
      ],
      "source": [
        "\"\"\"\n",
        "Linha 1 a 13\n",
        "  Loop while\n",
        "    Utilizando o loop while para criar um loop infinito que só será interrompido quando a condição desejada for satisfeita.\n",
        "\n",
        "Linha 3 a 11\n",
        "  Bloco try-except\n",
        "    O bloco \"try\" tenta executar o input dentro dele. O input é utilizado para solicitar ao usuário a inserção de um valor.\n",
        "    A função int() tenta converter o valor para um número inteiro. Se não for possível (por exemplo, se for uma string ou um número decimal),\n",
        "    um \"ValueError\" será lançado. Para que o programa não feche, o bloco \"except\" captura a exceção, retornando uma mensagem de erro personalizada\n",
        "    e reiniciando o loop, pedindo o input novamente ao usuário.\n",
        "\n",
        "  Bloco else\n",
        "    Se nenhum \"ValueError\" for lançado, o código dentro do bloco else será executado.\n",
        "    Ele verifica se o número que o usuário inseriu é menor que 1 ou maior que o tamanho do DataFrame.\n",
        "    Se o número estiver fora desse intervalo, uma mensagem de erro será exibida e o loop será reiniciado.\n",
        "    Se o número estiver dentro do intervalo, o loop será encerrado utilizando \"break\" e o valor será salvo na variável drop_index.\n",
        "\"\"\"\n",
        "\n",
        "while True:\n",
        "    try:\n",
        "        drop_index = int(input(f'Informe qual linha deseja excluir (1 a {len(new_library_exclude)}): '))\n",
        "        if drop_index < 1 or drop_index > len(new_library_exclude):\n",
        "            print(f'[ERROR] - Insira um número inteiro entre 1 a {len(new_library_exclude)}!')\n",
        "        else:\n",
        "            break\n",
        "    except ValueError:\n",
        "        print(f'Insira um valor inteiro entre 1 e {len(new_library_exclude)}')\n",
        "\n",
        "\"\"\"\n",
        "Linha 14\n",
        "  Ajuste do índice para ser baseado em zero\n",
        "    Diminuindo o valor da variável drop_index em 1, porque em programação os índices geralmente começam do 0.\n",
        "\"\"\"\n",
        "\n",
        "# Ajustando o índice para ser 0-based\n",
        "drop_index -= 1\n",
        "\n",
        "\"\"\"\n",
        "Linha 16 a 25\n",
        "  Verificação e exclusão da linha\n",
        "    O bloco if verifica se o DataFrame new_library_exclude não está vazio.\n",
        "    Se não estiver vazio, verifica se o índice drop_index está presente no DataFrame.\n",
        "    Se estiver presente, exclui a linha correspondente utilizando o método drop.\n",
        "    Se a linha for excluída com sucesso, exibe o DataFrame atualizado.\n",
        "    Se o índice não existir no DataFrame, exibe uma mensagem de erro.\n",
        "    Se o DataFrame estiver vazio, exibe uma mensagem informando que não será possível realizar a exclusão.\n",
        "\"\"\"\n",
        "\n",
        "if not new_library_exclude.empty:\n",
        "    if drop_index in new_library_exclude.index:\n",
        "        new_library_exclude.drop(drop_index, axis=0, inplace=True)\n",
        "        print(\"Linha excluída com sucesso. Novo DataFrame:\")\n",
        "        print(new_library_exclude.head())\n",
        "    else:\n",
        "        print(f'O índice {drop_index + 1} não existe no DataFrame.')\n",
        "else:\n",
        "    print('Não será possível fazer a exclusão, DataFrame vazio')\n"
      ]
    },
    {
      "cell_type": "code",
      "execution_count": 12,
      "metadata": {
        "colab": {
          "base_uri": "https://localhost:8080/",
          "height": 206
        },
        "id": "kqWpmCaGXf72",
        "outputId": "52da1121-e137-4ac4-d4b0-b479d806cf71"
      },
      "outputs": [
        {
          "data": {
            "text/html": [
              "<div>\n",
              "<style scoped>\n",
              "    .dataframe tbody tr th:only-of-type {\n",
              "        vertical-align: middle;\n",
              "    }\n",
              "\n",
              "    .dataframe tbody tr th {\n",
              "        vertical-align: top;\n",
              "    }\n",
              "\n",
              "    .dataframe thead th {\n",
              "        text-align: right;\n",
              "    }\n",
              "</style>\n",
              "<table border=\"1\" class=\"dataframe\">\n",
              "  <thead>\n",
              "    <tr style=\"text-align: right;\">\n",
              "      <th></th>\n",
              "      <th>Título</th>\n",
              "      <th>Autor</th>\n",
              "      <th>Ano de Publicação</th>\n",
              "      <th>Gênero</th>\n",
              "      <th>Número de Páginas</th>\n",
              "    </tr>\n",
              "  </thead>\n",
              "  <tbody>\n",
              "    <tr>\n",
              "      <th>0</th>\n",
              "      <td>1984</td>\n",
              "      <td>George Orwell</td>\n",
              "      <td>1949</td>\n",
              "      <td>Distopia</td>\n",
              "      <td>328</td>\n",
              "    </tr>\n",
              "    <tr>\n",
              "      <th>1</th>\n",
              "      <td>O Senhor dos Anéis</td>\n",
              "      <td>J.R.R. Tolkien</td>\n",
              "      <td>1954</td>\n",
              "      <td>Fantasia</td>\n",
              "      <td>1216</td>\n",
              "    </tr>\n",
              "    <tr>\n",
              "      <th>2</th>\n",
              "      <td>O Apanhador no Campo de Centeio</td>\n",
              "      <td>J.D. Salinger</td>\n",
              "      <td>1951</td>\n",
              "      <td>Ficção</td>\n",
              "      <td>277</td>\n",
              "    </tr>\n",
              "    <tr>\n",
              "      <th>3</th>\n",
              "      <td>Cem Anos de Solidão</td>\n",
              "      <td>Gabriel García Márquez</td>\n",
              "      <td>1967</td>\n",
              "      <td>Realismo Mágico</td>\n",
              "      <td>417</td>\n",
              "    </tr>\n",
              "    <tr>\n",
              "      <th>4</th>\n",
              "      <td>Dom Quixote</td>\n",
              "      <td>Miguel de Cervantes</td>\n",
              "      <td>1605</td>\n",
              "      <td>Ficção</td>\n",
              "      <td>1072</td>\n",
              "    </tr>\n",
              "  </tbody>\n",
              "</table>\n",
              "</div>"
            ],
            "text/plain": [
              "                            Título                   Autor  Ano de Publicação  \\\n",
              "0                             1984           George Orwell               1949   \n",
              "1               O Senhor dos Anéis          J.R.R. Tolkien               1954   \n",
              "2  O Apanhador no Campo de Centeio           J.D. Salinger               1951   \n",
              "3              Cem Anos de Solidão  Gabriel García Márquez               1967   \n",
              "4                      Dom Quixote     Miguel de Cervantes               1605   \n",
              "\n",
              "            Gênero  Número de Páginas  \n",
              "0         Distopia                328  \n",
              "1         Fantasia               1216  \n",
              "2           Ficção                277  \n",
              "3  Realismo Mágico                417  \n",
              "4           Ficção               1072  "
            ]
          },
          "execution_count": 12,
          "metadata": {},
          "output_type": "execute_result"
        }
      ],
      "source": [
        "# ----------------------------------------------------------------------------- SIMPLES ----------------------------------------------------------------------------------------------------\n",
        "\n",
        "biblioteca_simples = biblioteca_DF.copy()\n",
        "biblioteca_simples.drop(3)\n",
        "biblioteca_simples.head()"
      ]
    },
    {
      "cell_type": "code",
      "execution_count": 13,
      "metadata": {
        "colab": {
          "base_uri": "https://localhost:8080/",
          "height": 206
        },
        "id": "zqwdtRAOKG2a",
        "outputId": "42ba7a66-9b52-4653-e158-5aaebcb0ca62"
      },
      "outputs": [
        {
          "data": {
            "text/html": [
              "<div>\n",
              "<style scoped>\n",
              "    .dataframe tbody tr th:only-of-type {\n",
              "        vertical-align: middle;\n",
              "    }\n",
              "\n",
              "    .dataframe tbody tr th {\n",
              "        vertical-align: top;\n",
              "    }\n",
              "\n",
              "    .dataframe thead th {\n",
              "        text-align: right;\n",
              "    }\n",
              "</style>\n",
              "<table border=\"1\" class=\"dataframe\">\n",
              "  <thead>\n",
              "    <tr style=\"text-align: right;\">\n",
              "      <th></th>\n",
              "      <th>Título</th>\n",
              "      <th>Autor</th>\n",
              "      <th>Ano de Publicação</th>\n",
              "      <th>Gênero</th>\n",
              "      <th>Número de Páginas</th>\n",
              "    </tr>\n",
              "  </thead>\n",
              "  <tbody>\n",
              "    <tr>\n",
              "      <th>1</th>\n",
              "      <td>O Senhor dos Anéis</td>\n",
              "      <td>J.R.R. Tolkien</td>\n",
              "      <td>1954</td>\n",
              "      <td>Fantasia</td>\n",
              "      <td>1216</td>\n",
              "    </tr>\n",
              "    <tr>\n",
              "      <th>2</th>\n",
              "      <td>O Apanhador no Campo de Centeio</td>\n",
              "      <td>J.D. Salinger</td>\n",
              "      <td>1951</td>\n",
              "      <td>Ficção</td>\n",
              "      <td>277</td>\n",
              "    </tr>\n",
              "    <tr>\n",
              "      <th>3</th>\n",
              "      <td>Cem Anos de Solidão</td>\n",
              "      <td>Gabriel García Márquez</td>\n",
              "      <td>1967</td>\n",
              "      <td>Realismo Mágico</td>\n",
              "      <td>417</td>\n",
              "    </tr>\n",
              "    <tr>\n",
              "      <th>4</th>\n",
              "      <td>Dom Quixote</td>\n",
              "      <td>Miguel de Cervantes</td>\n",
              "      <td>1605</td>\n",
              "      <td>Ficção</td>\n",
              "      <td>1072</td>\n",
              "    </tr>\n",
              "    <tr>\n",
              "      <th>5</th>\n",
              "      <td>Orgulho e Preconceito</td>\n",
              "      <td>Jane Austen</td>\n",
              "      <td>1813</td>\n",
              "      <td>Romance</td>\n",
              "      <td>279</td>\n",
              "    </tr>\n",
              "  </tbody>\n",
              "</table>\n",
              "</div>"
            ],
            "text/plain": [
              "                            Título                   Autor  Ano de Publicação  \\\n",
              "1               O Senhor dos Anéis          J.R.R. Tolkien               1954   \n",
              "2  O Apanhador no Campo de Centeio           J.D. Salinger               1951   \n",
              "3              Cem Anos de Solidão  Gabriel García Márquez               1967   \n",
              "4                      Dom Quixote     Miguel de Cervantes               1605   \n",
              "5            Orgulho e Preconceito             Jane Austen               1813   \n",
              "\n",
              "            Gênero  Número de Páginas  \n",
              "1         Fantasia               1216  \n",
              "2           Ficção                277  \n",
              "3  Realismo Mágico                417  \n",
              "4           Ficção               1072  \n",
              "5          Romance                279  "
            ]
          },
          "execution_count": 13,
          "metadata": {},
          "output_type": "execute_result"
        }
      ],
      "source": [
        "# Mostrando o 2° dataframe com a linha excluída.\n",
        "new_library_exclude.head()"
      ]
    },
    {
      "cell_type": "markdown",
      "metadata": {
        "id": "S3kwypcHqyOr"
      },
      "source": [
        "# 7 - Adicione um item (linha) na sua base de dados."
      ]
    },
    {
      "cell_type": "code",
      "execution_count": 14,
      "metadata": {
        "id": "hb-L5DrwqcL8"
      },
      "outputs": [],
      "source": [
        "new_library_add = biblioteca_DF.copy()"
      ]
    },
    {
      "cell_type": "code",
      "execution_count": 15,
      "metadata": {
        "colab": {
          "base_uri": "https://localhost:8080/"
        },
        "id": "iOmfOFQ7rFZt",
        "outputId": "168f1a9f-9acd-4bbe-a09b-9597587defbe"
      },
      "outputs": [
        {
          "name": "stdout",
          "output_type": "stream",
          "text": [
            "Insira um número inteiro, maior que 1!\n",
            "Insira um número inteiro, maior que 1!\n",
            "Insira um número inteiro, maior que 1!\n",
            "Insira um número inteiro, maior que 1!\n",
            "Livro: a, Autor: b, Ano de publicação: c, Gênero: d, Número de páginas: e\n"
          ]
        }
      ],
      "source": [
        "\"\"\"\n",
        "Linha 1 a 12\n",
        "  Loop while com bloco try-except\n",
        "    Utilizando o loop while para criar um loop infinito que só será interrompido quando a condição desejada for satisfeita.\n",
        "\n",
        "Linha 3 a 10\n",
        "  Bloco try-except\n",
        "    O bloco \"try\" tenta executar o input dentro dele. O input é utilizado para solicitar ao usuário a inserção de um valor.\n",
        "    A função int() tenta converter o valor para um número inteiro. Se não for possível (por exemplo, se for uma string ou um número decimal),\n",
        "    um \"ValueError\" será lançado. Para que o programa não feche, o bloco \"except\" captura a exceção, retornando uma mensagem de erro personalizada\n",
        "    e reiniciando o loop, pedindo o input novamente ao usuário.\n",
        "\n",
        "  Bloco else\n",
        "    Se nenhum \"ValueError\" for lançado, o código dentro do bloco else será executado. Ele verifica se o número que o usuário inseriu\n",
        "    é menor que 1. Se o número for menor que 1, uma mensagem de erro será exibida e o loop será reiniciado.\n",
        "    Se o número for maior ou igual a 1, o loop será encerrado utilizando \"break\" e o valor será salvo na variável new_book.\n",
        "\"\"\"\n",
        "\n",
        "while True:\n",
        "  try:\n",
        "    new_book = int(input('Informe quantos livros deseja adicionar: '))\n",
        "    if new_book < 1:\n",
        "      print('Insira um número inteiro, maior que 1!')\n",
        "    else:\n",
        "      break\n",
        "  except ValueError:\n",
        "    print('Insira um número inteiro, maior que 1!')\n",
        "\n",
        "\"\"\"\n",
        "Linha 14 a 23\n",
        "  Loop for para adicionar novos livros\n",
        "    Utilizando o loop for para iterar de 0 até ne67w_book - 1, solicitando informações sobre cada novo livro a ser adicionado.\n",
        "    Para cada iteração, o usuário é solicitado a inserir o título, autor, ano de publicação, gênero e número de páginas do livro.\n",
        "    Esses dados são então adicionados ao DataFrame new_library_add utilizando o método loc.\n",
        "    Uma mensagem de confirmação é exibida após cada livro ser adicionado, mostrando os detalhes do livro adicionado.\n",
        "\"\"\"\n",
        "\n",
        "for book in range(new_book):\n",
        "  new_title = input(f'Digite o título do {book + 1}° livro: ')\n",
        "  new_author = input(f'Digite o autor do {book + 1}° livro: ')\n",
        "  new_year = input(f'Digite o ano de publicação do {book + 1}° livro: ')\n",
        "  new_genre = input(f'Digite o gênero do {book + 1}° livro: ')\n",
        "  new_pages = input(f'Digite o número de páginas do {book + 1}° livro: ')\n",
        "  new_library_add.loc[len(new_library_add)] = [new_title, new_author, new_year, new_genre, new_pages]\n",
        "  print(f'Livro: {new_title}, Autor: {new_author}, Ano de publicação: {new_year}, Gênero: {new_genre}, Número de páginas: {new_pages}')\n"
      ]
    },
    {
      "cell_type": "markdown",
      "metadata": {
        "id": "5BCAAZk-ygj1"
      },
      "source": [
        "# 8 - Transponha a coluna para a linha em sua base de dados"
      ]
    },
    {
      "cell_type": "code",
      "execution_count": 16,
      "metadata": {
        "colab": {
          "base_uri": "https://localhost:8080/",
          "height": 224
        },
        "id": "Pb_1MsKlyfgF",
        "outputId": "13c718dd-e727-4c37-cb5e-d1b19551975e"
      },
      "outputs": [
        {
          "name": "stdout",
          "output_type": "stream",
          "text": [
            "O data frame transposto fica:\n"
          ]
        },
        {
          "data": {
            "text/html": [
              "<div>\n",
              "<style scoped>\n",
              "    .dataframe tbody tr th:only-of-type {\n",
              "        vertical-align: middle;\n",
              "    }\n",
              "\n",
              "    .dataframe tbody tr th {\n",
              "        vertical-align: top;\n",
              "    }\n",
              "\n",
              "    .dataframe thead th {\n",
              "        text-align: right;\n",
              "    }\n",
              "</style>\n",
              "<table border=\"1\" class=\"dataframe\">\n",
              "  <thead>\n",
              "    <tr style=\"text-align: right;\">\n",
              "      <th></th>\n",
              "      <th>0</th>\n",
              "      <th>1</th>\n",
              "      <th>2</th>\n",
              "      <th>3</th>\n",
              "      <th>4</th>\n",
              "      <th>5</th>\n",
              "    </tr>\n",
              "  </thead>\n",
              "  <tbody>\n",
              "    <tr>\n",
              "      <th>Título</th>\n",
              "      <td>1984</td>\n",
              "      <td>O Senhor dos Anéis</td>\n",
              "      <td>O Apanhador no Campo de Centeio</td>\n",
              "      <td>Cem Anos de Solidão</td>\n",
              "      <td>Dom Quixote</td>\n",
              "      <td>Orgulho e Preconceito</td>\n",
              "    </tr>\n",
              "    <tr>\n",
              "      <th>Autor</th>\n",
              "      <td>George Orwell</td>\n",
              "      <td>J.R.R. Tolkien</td>\n",
              "      <td>J.D. Salinger</td>\n",
              "      <td>Gabriel García Márquez</td>\n",
              "      <td>Miguel de Cervantes</td>\n",
              "      <td>Jane Austen</td>\n",
              "    </tr>\n",
              "    <tr>\n",
              "      <th>Ano de Publicação</th>\n",
              "      <td>1949</td>\n",
              "      <td>1954</td>\n",
              "      <td>1951</td>\n",
              "      <td>1967</td>\n",
              "      <td>1605</td>\n",
              "      <td>1813</td>\n",
              "    </tr>\n",
              "    <tr>\n",
              "      <th>Gênero</th>\n",
              "      <td>Distopia</td>\n",
              "      <td>Fantasia</td>\n",
              "      <td>Ficção</td>\n",
              "      <td>Realismo Mágico</td>\n",
              "      <td>Ficção</td>\n",
              "      <td>Romance</td>\n",
              "    </tr>\n",
              "    <tr>\n",
              "      <th>Número de Páginas</th>\n",
              "      <td>328</td>\n",
              "      <td>1216</td>\n",
              "      <td>277</td>\n",
              "      <td>417</td>\n",
              "      <td>1072</td>\n",
              "      <td>279</td>\n",
              "    </tr>\n",
              "  </tbody>\n",
              "</table>\n",
              "</div>"
            ],
            "text/plain": [
              "                               0                   1  \\\n",
              "Título                      1984  O Senhor dos Anéis   \n",
              "Autor              George Orwell      J.R.R. Tolkien   \n",
              "Ano de Publicação           1949                1954   \n",
              "Gênero                  Distopia            Fantasia   \n",
              "Número de Páginas            328                1216   \n",
              "\n",
              "                                                 2                       3  \\\n",
              "Título             O Apanhador no Campo de Centeio     Cem Anos de Solidão   \n",
              "Autor                                J.D. Salinger  Gabriel García Márquez   \n",
              "Ano de Publicação                             1951                    1967   \n",
              "Gênero                                      Ficção         Realismo Mágico   \n",
              "Número de Páginas                              277                     417   \n",
              "\n",
              "                                     4                      5  \n",
              "Título                     Dom Quixote  Orgulho e Preconceito  \n",
              "Autor              Miguel de Cervantes            Jane Austen  \n",
              "Ano de Publicação                 1605                   1813  \n",
              "Gênero                          Ficção                Romance  \n",
              "Número de Páginas                 1072                    279  "
            ]
          },
          "execution_count": 16,
          "metadata": {},
          "output_type": "execute_result"
        }
      ],
      "source": [
        "\"\"\"\n",
        "  Transposição do DataFrame\n",
        "    Utilizando o método .T para transpor o DataFrame biblioteca_DF. A transposição inverte linhas e colunas.\n",
        "\"\"\"\n",
        "\n",
        "dataframe_transposed = biblioteca_DF.T\n",
        "\n",
        "\"\"\"\n",
        "  Impressão da mensagem e exibição do DataFrame transposto\n",
        "    Imprimindo uma mensagem indicando que o DataFrame foi transposto.\n",
        "    Utilizando o método .head() para exibir as primeiras linhas do DataFrame transposto.\n",
        "\"\"\"\n",
        "\n",
        "print('O data frame transposto fica:')\n",
        "dataframe_transposed.head()\n"
      ]
    },
    {
      "cell_type": "markdown",
      "metadata": {
        "id": "-bqz4IyDy6v7"
      },
      "source": [
        "# 9 - Apresente em tela somente a 1ª e a 2ª coluna (rótulo) da base de dados."
      ]
    },
    {
      "cell_type": "code",
      "execution_count": 17,
      "metadata": {
        "colab": {
          "base_uri": "https://localhost:8080/",
          "height": 206
        },
        "id": "0krMFQ0Uyx4X",
        "outputId": "f650666d-d910-4e6a-f158-c2da804ee09d"
      },
      "outputs": [
        {
          "data": {
            "text/html": [
              "<div>\n",
              "<style scoped>\n",
              "    .dataframe tbody tr th:only-of-type {\n",
              "        vertical-align: middle;\n",
              "    }\n",
              "\n",
              "    .dataframe tbody tr th {\n",
              "        vertical-align: top;\n",
              "    }\n",
              "\n",
              "    .dataframe thead th {\n",
              "        text-align: right;\n",
              "    }\n",
              "</style>\n",
              "<table border=\"1\" class=\"dataframe\">\n",
              "  <thead>\n",
              "    <tr style=\"text-align: right;\">\n",
              "      <th></th>\n",
              "      <th>Título</th>\n",
              "      <th>Ano de Publicação</th>\n",
              "    </tr>\n",
              "  </thead>\n",
              "  <tbody>\n",
              "    <tr>\n",
              "      <th>0</th>\n",
              "      <td>1984</td>\n",
              "      <td>1949</td>\n",
              "    </tr>\n",
              "    <tr>\n",
              "      <th>1</th>\n",
              "      <td>O Senhor dos Anéis</td>\n",
              "      <td>1954</td>\n",
              "    </tr>\n",
              "    <tr>\n",
              "      <th>2</th>\n",
              "      <td>O Apanhador no Campo de Centeio</td>\n",
              "      <td>1951</td>\n",
              "    </tr>\n",
              "    <tr>\n",
              "      <th>3</th>\n",
              "      <td>Cem Anos de Solidão</td>\n",
              "      <td>1967</td>\n",
              "    </tr>\n",
              "    <tr>\n",
              "      <th>4</th>\n",
              "      <td>Dom Quixote</td>\n",
              "      <td>1605</td>\n",
              "    </tr>\n",
              "  </tbody>\n",
              "</table>\n",
              "</div>"
            ],
            "text/plain": [
              "                            Título  Ano de Publicação\n",
              "0                             1984               1949\n",
              "1               O Senhor dos Anéis               1954\n",
              "2  O Apanhador no Campo de Centeio               1951\n",
              "3              Cem Anos de Solidão               1967\n",
              "4                      Dom Quixote               1605"
            ]
          },
          "execution_count": 17,
          "metadata": {},
          "output_type": "execute_result"
        }
      ],
      "source": [
        "\"\"\"\n",
        "  Seleção de colunas específicas do DataFrame\n",
        "    Utilizando a indexação com colchetes duplos para selecionar as colunas 'Título' e 'Ano de Publicação' do DataFrame biblioteca_DF.\n",
        "    O método .head() é utilizado para exibir as primeiras linhas dessas colunas selecionadas.\n",
        "\"\"\"\n",
        "\n",
        "biblioteca_DF[['Título', 'Ano de Publicação']].head()\n"
      ]
    },
    {
      "cell_type": "markdown",
      "metadata": {
        "id": "mSE7v0lCzd2U"
      },
      "source": [
        "# 10 - Informe como foi desenvolvido o Projeto"
      ]
    },
    {
      "cell_type": "code",
      "execution_count": 18,
      "metadata": {
        "colab": {
          "base_uri": "https://localhost:8080/",
          "height": 238
        },
        "id": "Nu_uQfFQQLA7",
        "outputId": "4a156cc7-9b4c-4ad1-e24f-f3073dfab3c7"
      },
      "outputs": [
        {
          "data": {
            "text/plain": [
              "'\\nO projeto foi criado com a biblioteca Pandas do Python, utilizando DataFrames. \\nO DataFrame em questão, chamado \"biblioteca_DF\", contém informações sobre livros dos quais eu já lei ou conheço por nome.\\n\\nUtilizei o google coolab, para codar e utilizei o Github Desktop para comitar o arquivo.\\n\\nDificultei um pouco os exercícios com o intuito de proporcionar uma experiência de aprendizado mais completa e duradoura.\\n\\nDurante o desenvolvimento do projeto, recorri ao auxílio do ChatGPT e do Germini para esclarecer dúvidas e tornar minhas anotações mais fluidas e compreensíveis\\n'"
            ]
          },
          "execution_count": 18,
          "metadata": {},
          "output_type": "execute_result"
        }
      ],
      "source": [
        "\"\"\"\n",
        "O projeto foi criado com a biblioteca Pandas do Python, utilizando DataFrames. \n",
        "O DataFrame em questão, chamado \"biblioteca_DF\", contém informações sobre livros dos quais eu já lei ou conheço por nome.\n",
        "\n",
        "Utilizei o google coolab, para codar e utilizei o Github Desktop para comitar o arquivo.\n",
        "\n",
        "Dificultei um pouco os exercícios com o intuito de proporcionar uma experiência de aprendizado mais completa e duradoura.\n",
        "\n",
        "Durante o desenvolvimento do projeto, recorri ao auxílio do ChatGPT e do Germini para esclarecer dúvidas e tornar minhas anotações mais fluidas e compreensíveis\n",
        "\"\"\"\n"
      ]
    },
    {
      "cell_type": "code",
      "execution_count": 19,
      "metadata": {},
      "outputs": [
        {
          "data": {
            "text/html": [
              "<div>\n",
              "<style scoped>\n",
              "    .dataframe tbody tr th:only-of-type {\n",
              "        vertical-align: middle;\n",
              "    }\n",
              "\n",
              "    .dataframe tbody tr th {\n",
              "        vertical-align: top;\n",
              "    }\n",
              "\n",
              "    .dataframe thead th {\n",
              "        text-align: right;\n",
              "    }\n",
              "</style>\n",
              "<table border=\"1\" class=\"dataframe\">\n",
              "  <thead>\n",
              "    <tr style=\"text-align: right;\">\n",
              "      <th></th>\n",
              "      <th>Título</th>\n",
              "      <th>Autor</th>\n",
              "      <th>Ano de Publicação</th>\n",
              "      <th>Gênero</th>\n",
              "      <th>Número de Páginas</th>\n",
              "    </tr>\n",
              "  </thead>\n",
              "  <tbody>\n",
              "    <tr>\n",
              "      <th>0</th>\n",
              "      <td>1984</td>\n",
              "      <td>George Orwell</td>\n",
              "      <td>1949</td>\n",
              "      <td>Distopia</td>\n",
              "      <td>328</td>\n",
              "    </tr>\n",
              "    <tr>\n",
              "      <th>1</th>\n",
              "      <td>O Senhor dos Anéis</td>\n",
              "      <td>J.R.R. Tolkien</td>\n",
              "      <td>1954</td>\n",
              "      <td>Fantasia</td>\n",
              "      <td>1216</td>\n",
              "    </tr>\n",
              "    <tr>\n",
              "      <th>2</th>\n",
              "      <td>O Apanhador no Campo de Centeio</td>\n",
              "      <td>J.D. Salinger</td>\n",
              "      <td>1951</td>\n",
              "      <td>Ficção</td>\n",
              "      <td>277</td>\n",
              "    </tr>\n",
              "    <tr>\n",
              "      <th>3</th>\n",
              "      <td>Cem Anos de Solidão</td>\n",
              "      <td>Gabriel García Márquez</td>\n",
              "      <td>1967</td>\n",
              "      <td>Realismo Mágico</td>\n",
              "      <td>417</td>\n",
              "    </tr>\n",
              "    <tr>\n",
              "      <th>4</th>\n",
              "      <td>Dom Quixote</td>\n",
              "      <td>Miguel de Cervantes</td>\n",
              "      <td>1605</td>\n",
              "      <td>Ficção</td>\n",
              "      <td>1072</td>\n",
              "    </tr>\n",
              "    <tr>\n",
              "      <th>5</th>\n",
              "      <td>Orgulho e Preconceito</td>\n",
              "      <td>Jane Austen</td>\n",
              "      <td>1813</td>\n",
              "      <td>Romance</td>\n",
              "      <td>279</td>\n",
              "    </tr>\n",
              "  </tbody>\n",
              "</table>\n",
              "</div>"
            ],
            "text/plain": [
              "                            Título                   Autor  Ano de Publicação  \\\n",
              "0                             1984           George Orwell               1949   \n",
              "1               O Senhor dos Anéis          J.R.R. Tolkien               1954   \n",
              "2  O Apanhador no Campo de Centeio           J.D. Salinger               1951   \n",
              "3              Cem Anos de Solidão  Gabriel García Márquez               1967   \n",
              "4                      Dom Quixote     Miguel de Cervantes               1605   \n",
              "5            Orgulho e Preconceito             Jane Austen               1813   \n",
              "\n",
              "            Gênero  Número de Páginas  \n",
              "0         Distopia                328  \n",
              "1         Fantasia               1216  \n",
              "2           Ficção                277  \n",
              "3  Realismo Mágico                417  \n",
              "4           Ficção               1072  \n",
              "5          Romance                279  "
            ]
          },
          "metadata": {},
          "output_type": "display_data"
        }
      ],
      "source": [
        "display(biblioteca_DF)"
      ]
    },
    {
      "cell_type": "code",
      "execution_count": 20,
      "metadata": {},
      "outputs": [
        {
          "data": {
            "text/html": [
              "<div>\n",
              "<style scoped>\n",
              "    .dataframe tbody tr th:only-of-type {\n",
              "        vertical-align: middle;\n",
              "    }\n",
              "\n",
              "    .dataframe tbody tr th {\n",
              "        vertical-align: top;\n",
              "    }\n",
              "\n",
              "    .dataframe thead th {\n",
              "        text-align: right;\n",
              "    }\n",
              "</style>\n",
              "<table border=\"1\" class=\"dataframe\">\n",
              "  <thead>\n",
              "    <tr style=\"text-align: right;\">\n",
              "      <th></th>\n",
              "      <th>Título</th>\n",
              "      <th>Autor</th>\n",
              "      <th>Ano de Publicação</th>\n",
              "      <th>Gênero</th>\n",
              "      <th>Número de Páginas</th>\n",
              "    </tr>\n",
              "  </thead>\n",
              "  <tbody>\n",
              "    <tr>\n",
              "      <th>0</th>\n",
              "      <td>1984</td>\n",
              "      <td>George Orwell</td>\n",
              "      <td>1949</td>\n",
              "      <td>Distopia</td>\n",
              "      <td>328</td>\n",
              "    </tr>\n",
              "    <tr>\n",
              "      <th>1</th>\n",
              "      <td>O Senhor dos Anéis</td>\n",
              "      <td>J.R.R. Tolkien</td>\n",
              "      <td>1954</td>\n",
              "      <td>Fantasia</td>\n",
              "      <td>1216</td>\n",
              "    </tr>\n",
              "    <tr>\n",
              "      <th>2</th>\n",
              "      <td>O Apanhador no Campo de Centeio</td>\n",
              "      <td>J.D. Salinger</td>\n",
              "      <td>1951</td>\n",
              "      <td>Ficção</td>\n",
              "      <td>277</td>\n",
              "    </tr>\n",
              "    <tr>\n",
              "      <th>3</th>\n",
              "      <td>Cem Anos de Solidão</td>\n",
              "      <td>Gabriel García Márquez</td>\n",
              "      <td>1967</td>\n",
              "      <td>Realismo Mágico</td>\n",
              "      <td>417</td>\n",
              "    </tr>\n",
              "    <tr>\n",
              "      <th>4</th>\n",
              "      <td>Dom Quixote</td>\n",
              "      <td>Miguel de Cervantes</td>\n",
              "      <td>1605</td>\n",
              "      <td>Ficção</td>\n",
              "      <td>1072</td>\n",
              "    </tr>\n",
              "    <tr>\n",
              "      <th>5</th>\n",
              "      <td>Orgulho e Preconceito</td>\n",
              "      <td>Jane Austen</td>\n",
              "      <td>1813</td>\n",
              "      <td>Romance</td>\n",
              "      <td>279</td>\n",
              "    </tr>\n",
              "    <tr>\n",
              "      <th>6</th>\n",
              "      <td>a</td>\n",
              "      <td>b</td>\n",
              "      <td>c</td>\n",
              "      <td>d</td>\n",
              "      <td>e</td>\n",
              "    </tr>\n",
              "  </tbody>\n",
              "</table>\n",
              "</div>"
            ],
            "text/plain": [
              "                            Título                   Autor Ano de Publicação  \\\n",
              "0                             1984           George Orwell              1949   \n",
              "1               O Senhor dos Anéis          J.R.R. Tolkien              1954   \n",
              "2  O Apanhador no Campo de Centeio           J.D. Salinger              1951   \n",
              "3              Cem Anos de Solidão  Gabriel García Márquez              1967   \n",
              "4                      Dom Quixote     Miguel de Cervantes              1605   \n",
              "5            Orgulho e Preconceito             Jane Austen              1813   \n",
              "6                                a                       b                 c   \n",
              "\n",
              "            Gênero Número de Páginas  \n",
              "0         Distopia               328  \n",
              "1         Fantasia              1216  \n",
              "2           Ficção               277  \n",
              "3  Realismo Mágico               417  \n",
              "4           Ficção              1072  \n",
              "5          Romance               279  \n",
              "6                d                 e  "
            ]
          },
          "metadata": {},
          "output_type": "display_data"
        }
      ],
      "source": [
        "display(new_library_add)"
      ]
    }
  ],
  "metadata": {
    "colab": {
      "provenance": []
    },
    "kernelspec": {
      "display_name": "Python 3",
      "name": "python3"
    },
    "language_info": {
      "codemirror_mode": {
        "name": "ipython",
        "version": 3
      },
      "file_extension": ".py",
      "mimetype": "text/x-python",
      "name": "python",
      "nbconvert_exporter": "python",
      "pygments_lexer": "ipython3",
      "version": "3.12.3"
    }
  },
  "nbformat": 4,
  "nbformat_minor": 0
}
